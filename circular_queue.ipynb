{
 "cells": [
  {
   "cell_type": "code",
   "execution_count": 9,
   "id": "60837418-9306-4f09-a66a-279e64957227",
   "metadata": {},
   "outputs": [
    {
     "name": "stdout",
     "output_type": "stream",
     "text": [
      "\n",
      "\n",
      "Program to implement circular queue\n",
      "1. Enqueue\n",
      "2.dequeue\n",
      "3.peek\n",
      "4. Display\n",
      "5.Exit\n"
     ]
    },
    {
     "name": "stdin",
     "output_type": "stream",
     "text": [
      "Enter ur choice 1\n",
      "Enter the data 5\n"
     ]
    },
    {
     "name": "stdout",
     "output_type": "stream",
     "text": [
      "\n",
      "\n",
      "Program to implement circular queue\n",
      "1. Enqueue\n",
      "2.dequeue\n",
      "3.peek\n",
      "4. Display\n",
      "5.Exit\n"
     ]
    },
    {
     "name": "stdin",
     "output_type": "stream",
     "text": [
      "Enter ur choice 1\n",
      "Enter the data 10\n"
     ]
    },
    {
     "name": "stdout",
     "output_type": "stream",
     "text": [
      "\n",
      "\n",
      "Program to implement circular queue\n",
      "1. Enqueue\n",
      "2.dequeue\n",
      "3.peek\n",
      "4. Display\n",
      "5.Exit\n"
     ]
    },
    {
     "name": "stdin",
     "output_type": "stream",
     "text": [
      "Enter ur choice 3\n"
     ]
    },
    {
     "name": "stdout",
     "output_type": "stream",
     "text": [
      "item in the front view  5\n",
      "\n",
      "\n",
      "Program to implement circular queue\n",
      "1. Enqueue\n",
      "2.dequeue\n",
      "3.peek\n",
      "4. Display\n",
      "5.Exit\n"
     ]
    },
    {
     "name": "stdin",
     "output_type": "stream",
     "text": [
      "Enter ur choice 4\n"
     ]
    },
    {
     "name": "stdout",
     "output_type": "stream",
     "text": [
      "5->10\n",
      "\n",
      "\n",
      "Program to implement circular queue\n",
      "1. Enqueue\n",
      "2.dequeue\n",
      "3.peek\n",
      "4. Display\n",
      "5.Exit\n"
     ]
    },
    {
     "name": "stdin",
     "output_type": "stream",
     "text": [
      "Enter ur choice 2\n"
     ]
    },
    {
     "name": "stdout",
     "output_type": "stream",
     "text": [
      "item deleted  5\n",
      "\n",
      "\n",
      "Program to implement circular queue\n",
      "1. Enqueue\n",
      "2.dequeue\n",
      "3.peek\n",
      "4. Display\n",
      "5.Exit\n"
     ]
    },
    {
     "name": "stdin",
     "output_type": "stream",
     "text": [
      "Enter ur choice 4\n"
     ]
    },
    {
     "name": "stdout",
     "output_type": "stream",
     "text": [
      "10\n",
      "\n",
      "\n",
      "Program to implement circular queue\n",
      "1. Enqueue\n",
      "2.dequeue\n",
      "3.peek\n",
      "4. Display\n",
      "5.Exit\n"
     ]
    },
    {
     "name": "stdin",
     "output_type": "stream",
     "text": [
      "Enter ur choice 5\n"
     ]
    },
    {
     "name": "stdout",
     "output_type": "stream",
     "text": [
      "Quitting....\n"
     ]
    }
   ],
   "source": [
    "class Node:\n",
    "    def __init__(self,data=None,next=None):\n",
    "        self.data=data\n",
    "        self.next=next\n",
    "class Circular_Queue:\n",
    "    def __init__(self):\n",
    "        self.tail=None\n",
    "    def isempty(self):\n",
    "        return self.tail is None\n",
    "    def enqueue(self,NewData):\n",
    "        newNode=Node(NewData,None)\n",
    "        if self.tail is None:\n",
    "            newNode.next=newNode\n",
    "        else:\n",
    "            newNode.next=self.tail.next\n",
    "            self.tail.next=newNode\n",
    "        self.tail=newNode\n",
    "    def peek(self):\n",
    "        return self.tail.next.data\n",
    "    def dequeue(self):\n",
    "        frontNode=self.tail.next\n",
    "        if frontNode.next==frontNode:\n",
    "            self.tail=None\n",
    "        else:\n",
    "            self.tail.next=frontNode.next\n",
    "        return frontNode.data\n",
    "    def display(self):\n",
    "        if self.isempty():\n",
    "            print(\"Queue is empty\")\n",
    "            return\n",
    "        curNode=self.tail.next\n",
    "        while curNode !=self.tail:\n",
    "            print(curNode.data,end=\"->\")\n",
    "            curNode=curNode.next\n",
    "        print(curNode.data)\n",
    "\n",
    "q=Circular_Queue()\n",
    "while True:\n",
    "    print(\"\\n\\nProgram to implement circular queue\")\n",
    "    print(\"1. Enqueue\")\n",
    "    print('2.dequeue')\n",
    "    print('3.peek')\n",
    "    print('4. Display')\n",
    "    print('5.Exit')\n",
    "    choice=int(input(\"Enter ur choice\"))\n",
    "    if choice==1:\n",
    "        num=int(input(\"Enter the data\"))\n",
    "        q.enqueue(num)\n",
    "    elif choice==2:\n",
    "        if q.isempty():\n",
    "            print(\"Queue is empty\")\n",
    "        else:\n",
    "            num=q.dequeue()\n",
    "            print(\"item deleted \",num)\n",
    "    elif choice==3:\n",
    "        if q.isempty():\n",
    "            print(\"Queue underflow\")\n",
    "        else:\n",
    "            num=q.peek()\n",
    "            print(\"item in the front view \",num)\n",
    "    elif choice==4:\n",
    "        if q.isempty():\n",
    "            print(\"Queue is empty\")\n",
    "        else:\n",
    "            q.display()\n",
    "    elif choice ==5:\n",
    "        print(\"Quitting....\")\n",
    "        break\n",
    "    else:\n",
    "        print(\"Invalid choice sahi number dal be\")\n",
    "        continue\n"
   ]
  },
  {
   "cell_type": "code",
   "execution_count": null,
   "id": "9ac30620-f4b1-41d2-bbda-b3756e1193c3",
   "metadata": {},
   "outputs": [],
   "source": []
  }
 ],
 "metadata": {
  "kernelspec": {
   "display_name": "Python 3 (ipykernel)",
   "language": "python",
   "name": "python3"
  },
  "language_info": {
   "codemirror_mode": {
    "name": "ipython",
    "version": 3
   },
   "file_extension": ".py",
   "mimetype": "text/x-python",
   "name": "python",
   "nbconvert_exporter": "python",
   "pygments_lexer": "ipython3",
   "version": "3.12.4"
  }
 },
 "nbformat": 4,
 "nbformat_minor": 5
}
