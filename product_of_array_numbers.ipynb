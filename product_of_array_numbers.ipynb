{
 "cells": [
  {
   "cell_type": "code",
   "execution_count": 3,
   "id": "e2570da1-bc12-46bc-95d4-1c72077c00c8",
   "metadata": {},
   "outputs": [
    {
     "name": "stdin",
     "output_type": "stream",
     "text": [
      "Enter the size of the array:  5\n",
      "Enter 5 integers separated by spaces:  1 2 3 4 5\n"
     ]
    },
    {
     "name": "stdout",
     "output_type": "stream",
     "text": [
      "the product is of all number except that particular index during iterations\n",
      "The product array is: [120, 60, 40, 30, 24]\n"
     ]
    }
   ],
   "source": [
    "# Initialize the size of an array to 'n'\n",
    "n = int(input(\"Enter the size of the array: \"))\n",
    "\n",
    "# Scan the array of 'n' integers\n",
    "arr = list(map(int, input(f\"Enter {n} integers separated by spaces: \").split()))\n",
    "\n",
    "# Create a new array as 'prod_arr' to store new elements\n",
    "prod_arr = []\n",
    "\n",
    "# For any element in the array, the new element is the product of the remaining elements\n",
    "for i in range(n):\n",
    "    product = 1\n",
    "    for j in range(n):\n",
    "        if i != j:  # Exclude the current element\n",
    "            product *= arr[j]\n",
    "    prod_arr.append(product)\n",
    "\n",
    "# Print the resulting product array\n",
    "print(\"the product is of all number except that particular index during iterations\")\n",
    "print(\"The product array is:\", prod_arr)\n"
   ]
  },
  {
   "cell_type": "code",
   "execution_count": 5,
   "id": "10502f87-aa96-41b9-b20f-d1bc25d370d8",
   "metadata": {},
   "outputs": [
    {
     "data": {
      "text/plain": [
       "{'cells': [{'cell_type': 'code',\n",
       "   'execution_count': 3,\n",
       "   'id': 'e4f0d1d3-c8ea-4901-8f73-b60377074f58',\n",
       "   'metadata': {},\n",
       "   'outputs': [{'name': 'stdout',\n",
       "     'output_type': 'stream',\n",
       "     'text': ['Original Array: [1, 2, 3, 4, 5]\\n',\n",
       "      'Product Array: [120, 60, 40, 30, 24]\\n']}],\n",
       "   'source': ['def productExceptSelf(arr):\\n',\n",
       "    '    n = len(arr)\\n',\n",
       "    '    # Initialize the result list as 1\\n',\n",
       "    '    res = [1] * n\\n',\n",
       "    '    for i in range(n):\\n',\n",
       "    '        # Compute the product of all except arr[i]\\n',\n",
       "    '        for j in range(n):\\n',\n",
       "    '            if i != j:\\n',\n",
       "    '                res[i] *= arr[j]\\n',\n",
       "    '    return res\\n',\n",
       "    '\\n',\n",
       "    '# Input array\\n',\n",
       "    'arr = [1, 2, 3, 4, 5]\\n',\n",
       "    'print(\"Original Array:\", arr)\\n',\n",
       "    '\\n',\n",
       "    '# Calculate the special product array\\n',\n",
       "    'result = productExceptSelf(arr)\\n',\n",
       "    'print(\"Product Array:\", result)']}],\n",
       " 'metadata': {'kernelspec': {'display_name': 'Python 3 (ipykernel)',\n",
       "   'language': 'python',\n",
       "   'name': 'python3'},\n",
       "  'language_info': {'codemirror_mode': {'name': 'ipython', 'version': 3},\n",
       "   'file_extension': '.py',\n",
       "   'mimetype': 'text/x-python',\n",
       "   'name': 'python',\n",
       "   'nbconvert_exporter': 'python',\n",
       "   'pygments_lexer': 'ipython3',\n",
       "   'version': '3.12.4'}},\n",
       " 'nbformat': 4,\n",
       " 'nbformat_minor': 5}"
      ]
     },
     "execution_count": 5,
     "metadata": {},
     "output_type": "execute_result"
    }
   ],
   "source": [
    "{\n",
    " \"cells\": [\n",
    "  {\n",
    "   \"cell_type\": \"code\",\n",
    "   \"execution_count\": 3,\n",
    "   \"id\": \"e4f0d1d3-c8ea-4901-8f73-b60377074f58\",\n",
    "   \"metadata\": {},\n",
    "   \"outputs\": [\n",
    "    {\n",
    "     \"name\": \"stdout\",\n",
    "     \"output_type\": \"stream\",\n",
    "     \"text\": [\n",
    "      \"Original Array: [1, 2, 3, 4, 5]\\n\",\n",
    "      \"Product Array: [120, 60, 40, 30, 24]\\n\"\n",
    "     ]\n",
    "    }\n",
    "   ],\n",
    "   \"source\": [\n",
    "    \"def productExceptSelf(arr):\\n\",\n",
    "    \"    n = len(arr)\\n\",\n",
    "    \"    # Initialize the result list as 1\\n\",\n",
    "    \"    res = [1] * n\\n\",\n",
    "    \"    for i in range(n):\\n\",\n",
    "    \"        # Compute the product of all except arr[i]\\n\",\n",
    "    \"        for j in range(n):\\n\",\n",
    "    \"            if i != j:\\n\",\n",
    "    \"                res[i] *= arr[j]\\n\",\n",
    "    \"    return res\\n\",\n",
    "    \"\\n\",\n",
    "    \"# Input array\\n\",\n",
    "    \"arr = [1, 2, 3, 4, 5]\\n\",\n",
    "    \"print(\\\"Original Array:\\\", arr)\\n\",\n",
    "    \"\\n\",\n",
    "    \"# Calculate the special product array\\n\",\n",
    "    \"result = productExceptSelf(arr)\\n\",\n",
    "    \"print(\\\"Product Array:\\\", result)\"\n",
    "   ]\n",
    "  }\n",
    " ],\n",
    " \"metadata\": {\n",
    "  \"kernelspec\": {\n",
    "   \"display_name\": \"Python 3 (ipykernel)\",\n",
    "   \"language\": \"python\",\n",
    "   \"name\": \"python3\"\n",
    "  },\n",
    "  \"language_info\": {\n",
    "   \"codemirror_mode\": {\n",
    "    \"name\": \"ipython\",\n",
    "    \"version\": 3\n",
    "   },\n",
    "   \"file_extension\": \".py\",\n",
    "   \"mimetype\": \"text/x-python\",\n",
    "   \"name\": \"python\",\n",
    "   \"nbconvert_exporter\": \"python\",\n",
    "   \"pygments_lexer\": \"ipython3\",\n",
    "   \"version\": \"3.12.4\"\n",
    "  }\n",
    " },\n",
    " \"nbformat\": 4,\n",
    " \"nbformat_minor\": 5\n",
    "}"
   ]
  },
  {
   "cell_type": "code",
   "execution_count": null,
   "id": "ff7b9352-4acb-4722-9c11-3a936585d95a",
   "metadata": {},
   "outputs": [],
   "source": []
  }
 ],
 "metadata": {
  "kernelspec": {
   "display_name": "Python 3 (ipykernel)",
   "language": "python",
   "name": "python3"
  },
  "language_info": {
   "codemirror_mode": {
    "name": "ipython",
    "version": 3
   },
   "file_extension": ".py",
   "mimetype": "text/x-python",
   "name": "python",
   "nbconvert_exporter": "python",
   "pygments_lexer": "ipython3",
   "version": "3.12.4"
  }
 },
 "nbformat": 4,
 "nbformat_minor": 5
}
